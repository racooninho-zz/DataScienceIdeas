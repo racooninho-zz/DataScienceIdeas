{
 "cells": [
  {
   "cell_type": "code",
   "execution_count": 3,
   "metadata": {},
   "outputs": [
    {
     "ename": "ModuleNotFoundError",
     "evalue": "No module named 'fuzzywuzzy'",
     "output_type": "error",
     "traceback": [
      "\u001b[1;31m---------------------------------------------------------------------------\u001b[0m",
      "\u001b[1;31mModuleNotFoundError\u001b[0m                       Traceback (most recent call last)",
      "\u001b[1;32m<ipython-input-3-c6285ec92603>\u001b[0m in \u001b[0;36m<module>\u001b[1;34m()\u001b[0m\n\u001b[0;32m      2\u001b[0m \u001b[1;32mimport\u001b[0m \u001b[0mrandom\u001b[0m\u001b[1;33m\u001b[0m\u001b[0m\n\u001b[0;32m      3\u001b[0m \u001b[1;32mimport\u001b[0m \u001b[0mstring\u001b[0m\u001b[1;33m\u001b[0m\u001b[0m\n\u001b[1;32m----> 4\u001b[1;33m \u001b[1;32mfrom\u001b[0m \u001b[0mfuzzywuzzy\u001b[0m \u001b[1;32mimport\u001b[0m \u001b[0mfuzz\u001b[0m\u001b[1;33m\u001b[0m\u001b[0m\n\u001b[0m",
      "\u001b[1;31mModuleNotFoundError\u001b[0m: No module named 'fuzzywuzzy'"
     ]
    }
   ],
   "source": [
    "#https://www.youtube.com/watch?v=MZloJByL9s0\n",
    "import random\n",
    "import string\n",
    "from fuzzywuzzy import fuzz"
   ]
  },
  {
   "cell_type": "code",
   "execution_count": null,
   "metadata": {},
   "outputs": [],
   "source": [
    "class Agent:\n",
    "    def __init_(self, length):\n",
    "        self.string = ''.join(random.choice\n",
    "                              (string.letters)\n",
    "                              for _ in range(length))\n",
    "        self.fitness = -1\n",
    "        \n",
    "    def __str__(self):\n",
    "        return 'String: ' + str(self.string) \n",
    "        + ' Fitness ' + str(self.fitness)\n"
   ]
  },
  {
   "cell_type": "code",
   "execution_count": null,
   "metadata": {},
   "outputs": [],
   "source": [
    "in_str = None\n",
    "in_str_len = None\n",
    "population = 28\n",
    "generations = 1000"
   ]
  },
  {
   "cell_type": "code",
   "execution_count": null,
   "metadata": {},
   "outputs": [],
   "source": [
    "def geneticAlgorithm():\n",
    "    agents = init_agents(population, in_str_len)\n",
    "    for generation in range(generations):\n",
    "        print('Generation: ' + str(generation))\n",
    "        \n",
    "        agents = fitness(agents)\n",
    "        agents = selection(agents)\n",
    "        agents = crossover(agents)\n",
    "        agents = mutation(agents)\n",
    "        \n",
    "        if any(agent.fitness >= 90 for agent in agents):\n",
    "            print('Threshold met!')\n",
    "            exit(0)"
   ]
  },
  {
   "cell_type": "code",
   "execution_count": null,
   "metadata": {},
   "outputs": [],
   "source": [
    "def init_agents(population, length):\n",
    "    return[Agent(length) for _ in range(population)]"
   ]
  },
  {
   "cell_type": "code",
   "execution_count": null,
   "metadata": {},
   "outputs": [],
   "source": [
    "def fitness(agents):\n",
    "    for agent in agents:\n",
    "        agent.fitness = fuzz.ratio(agent.string, in_str)\n",
    "    return agents"
   ]
  },
  {
   "cell_type": "code",
   "execution_count": null,
   "metadata": {},
   "outputs": [],
   "source": [
    "def selection(agents):\n",
    "    agents = sorted(agents, \n",
    "                    key= lambda agent: agent.fitness, \n",
    "                    reverse=True)\n",
    "    print('\\n'.join(map(str, agents)))\n",
    "    agents = agents[:int(0.2*len(agents))]"
   ]
  },
  {
   "cell_type": "code",
   "execution_count": null,
   "metadata": {},
   "outputs": [],
   "source": [
    "def crossover(agents):\n",
    "    offspring = []\n",
    "    \n",
    "    for _ in range((population - len(agents)) /2):\n",
    "        parent1 = random.choice(agents)\n",
    "        parent2 = random.choice(agents)\n",
    "        child1 = Agent(in_str_len)\n",
    "        child2 = Agent(in_str_len)\n",
    "        split = random.randint(0, in_str_len)\n",
    "        child1.string = parent1.string[0:split] + parent2.string[split:in_str_len]\n",
    "        child2.string = parent2.string[0:split] + parent1.string[split:in_str_len]\n",
    "\n",
    "        offspring.append(child1)\n",
    "        offspring.append(child2)\n",
    "    \n",
    "    agents.extend(offspring)\n",
    "    return agents\n"
   ]
  },
  {
   "cell_type": "code",
   "execution_count": null,
   "metadata": {},
   "outputs": [],
   "source": [
    "def mutation(agents):\n",
    "    for agent in agents:\n",
    "        for idx, param in enumerate(agents.string):\n",
    "            if random.uniform(0.0, 1.0) <= 0.1:\n",
    "                agent.string = agent.string[0:idx] \n",
    "                + random.choice(string.letters) + agent.string[idx+1:in_str_len]\n",
    "                \n",
    "    return agents"
   ]
  },
  {
   "cell_type": "code",
   "execution_count": null,
   "metadata": {},
   "outputs": [],
   "source": [
    "# if __name__ == '__main__':\n",
    "in_str = 'GuiRibeiro'\n",
    "in_str_len = len(in_str)\n",
    "geneticAlgorithm()"
   ]
  },
  {
   "cell_type": "code",
   "execution_count": null,
   "metadata": {},
   "outputs": [],
   "source": []
  },
  {
   "cell_type": "code",
   "execution_count": null,
   "metadata": {},
   "outputs": [],
   "source": []
  }
 ],
 "metadata": {
  "kernelspec": {
   "display_name": "Python 3",
   "language": "python",
   "name": "python3"
  },
  "language_info": {
   "codemirror_mode": {
    "name": "ipython",
    "version": 3
   },
   "file_extension": ".py",
   "mimetype": "text/x-python",
   "name": "python",
   "nbconvert_exporter": "python",
   "pygments_lexer": "ipython3",
   "version": "3.6.4"
  }
 },
 "nbformat": 4,
 "nbformat_minor": 2
}
